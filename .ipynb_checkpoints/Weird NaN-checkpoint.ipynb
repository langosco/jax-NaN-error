{
 "cells": [
  {
   "cell_type": "markdown",
   "metadata": {},
   "source": [
    "# Repro"
   ]
  },
  {
   "cell_type": "code",
   "execution_count": 1,
   "metadata": {},
   "outputs": [],
   "source": [
    "from collections.abc import Mapping\n",
    "\n",
    "import json\n",
    "import jax\n",
    "import jax.numpy as np\n",
    "from jax import tree_util, grad, jit, vmap\n",
    "import haiku as hk"
   ]
  },
  {
   "cell_type": "code",
   "execution_count": 2,
   "metadata": {},
   "outputs": [],
   "source": [
    "def tree_isnan(tree):\n",
    "    \"\"\"Returns true if any of the tree leaves include a NaN.\"\"\"\n",
    "    return any([np.any(np.isnan(leaf)) for leaf in tree_util.tree_leaves(tree)])\n",
    "\n",
    "def tree_to_numpy(tree):\n",
    "    \"\"\"turn all lists in tree into numpy arrays\"\"\"\n",
    "    out = {}\n",
    "    for k, v in tree.items():\n",
    "        if isinstance(v, Mapping):\n",
    "            out[k] = tree_to_numpy(v)\n",
    "        else:\n",
    "            out[k] = np.array(v)\n",
    "    return out"
   ]
  },
  {
   "cell_type": "code",
   "execution_count": 3,
   "metadata": {},
   "outputs": [],
   "source": [
    "def mlp_fn(x):\n",
    "    lin = hk.nets.MLP(output_sizes=[32, 32, 1],\n",
    "                      w_init=hk.initializers.VarianceScaling(scale=2.0),\n",
    "                      activation=jax.nn.swish,\n",
    "                      activate_final=False,\n",
    "                      name=\"MLP\")\n",
    "    return lin(x)\n",
    "mlp = hk.transform(mlp_fn)"
   ]
  },
  {
   "cell_type": "code",
   "execution_count": 5,
   "metadata": {},
   "outputs": [
    {
     "name": "stdout",
     "output_type": "stream",
     "text": [
      "Is gradient NaN when not using jit? False\n",
      "Is gradient NaN when using jit? True\n"
     ]
    }
   ],
   "source": [
    "samples = np.array([[-2.8753953],\n",
    "             [-4.018667 ],\n",
    "             [-3.0718434],\n",
    "             [-3.9645574],\n",
    "             [ 3.7780683],\n",
    "             [-2.2248127],\n",
    "             [ 3.4319901],\n",
    "             [-2.9572632]], dtype=np.float32)\n",
    "\n",
    "with open(\"./net_params.json\", \"r\") as file:\n",
    "    params_dict = json.load(file)\n",
    "params = tree_to_numpy(params_dict)\n",
    "\n",
    "def l2_norm(params, samples):\n",
    "    def f(x): return mlp.apply(params, None, x)\n",
    "    def fnorm(x): return np.linalg.norm(f(x))\n",
    "    return np.mean(vmap(fnorm)(samples))\n",
    "\n",
    "g     =     grad(l2_norm)(params, samples)\n",
    "g_jit = jit(grad(l2_norm))(params, samples)\n",
    "\n",
    "print(\"Is gradient NaN when not using jit?\", tree_isnan(g)) # False\n",
    "print(\"Is gradient NaN when using jit?\", tree_isnan(g_jit)) # True"
   ]
  }
 ],
 "metadata": {
  "kernelspec": {
   "display_name": "msc-thesis",
   "language": "python",
   "name": "msc-thesis"
  },
  "language_info": {
   "codemirror_mode": {
    "name": "ipython",
    "version": 3
   },
   "file_extension": ".py",
   "mimetype": "text/x-python",
   "name": "python",
   "nbconvert_exporter": "python",
   "pygments_lexer": "ipython3",
   "version": "3.8.2"
  }
 },
 "nbformat": 4,
 "nbformat_minor": 4
}
